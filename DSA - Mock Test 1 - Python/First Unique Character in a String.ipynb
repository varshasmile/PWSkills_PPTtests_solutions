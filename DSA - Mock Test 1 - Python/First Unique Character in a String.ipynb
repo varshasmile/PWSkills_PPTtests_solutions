{
 "cells": [
  {
   "cell_type": "markdown",
   "id": "c747a14d-6462-4e4a-a1e5-6ec377c72e69",
   "metadata": {},
   "source": [
    "Q. First Unique Character in a String\n",
    "\n",
    "Given a string s, find the first non-repeating character in it and return its index. If it does not exist, return -1.\n",
    "\n",
    "Example 1:\n",
    "Input: s = \"leetcode\"\n",
    "Output: 0\n",
    "\n",
    "Example 2:\n",
    "Input: s = \"loveleetcode\"\n",
    "Output: 2\n",
    "\n",
    "Example 3:\n",
    "Input: s = \"aabb\"\n",
    "Output: -1\n",
    "\n",
    "Constraints:\n",
    "a. 1 <= s.length <= 10^5\n",
    "b. s consists of only lowercase English letters."
   ]
  },
  {
   "cell_type": "code",
   "execution_count": 2,
   "id": "e05a23c8-cddc-418e-91d1-c6a7ec3e4c8d",
   "metadata": {},
   "outputs": [
    {
     "name": "stdout",
     "output_type": "stream",
     "text": [
      "0\n",
      "2\n",
      "-1\n"
     ]
    }
   ],
   "source": [
    "def firstUniqueChar(s):\n",
    "    s = s.lower()\n",
    "    #using hash map to keep a record of char freq.\n",
    "    char_freq = {}\n",
    "\n",
    "    #update the char freq\n",
    "    for char in s:\n",
    "        char_freq[char] = char_freq.get(char, 0)+1\n",
    "\n",
    "    #to find the index of first unique char:\n",
    "    for i in range(len(s)):\n",
    "        if char_freq[s[i]] == 1:\n",
    "            return i\n",
    "        \n",
    "    return -1\n",
    "\n",
    "print(firstUniqueChar(s = \"leetcode\"))\n",
    "print(firstUniqueChar(s = \"loveleetcode\"))\n",
    "print(firstUniqueChar(s = \"aabb\"))"
   ]
  },
  {
   "cell_type": "code",
   "execution_count": null,
   "id": "7fe28a5f-4857-4a5b-9566-aaaba52dd78f",
   "metadata": {},
   "outputs": [],
   "source": []
  }
 ],
 "metadata": {
  "kernelspec": {
   "display_name": "Python 3 (ipykernel)",
   "language": "python",
   "name": "python3"
  },
  "language_info": {
   "codemirror_mode": {
    "name": "ipython",
    "version": 3
   },
   "file_extension": ".py",
   "mimetype": "text/x-python",
   "name": "python",
   "nbconvert_exporter": "python",
   "pygments_lexer": "ipython3",
   "version": "3.10.8"
  }
 },
 "nbformat": 4,
 "nbformat_minor": 5
}
