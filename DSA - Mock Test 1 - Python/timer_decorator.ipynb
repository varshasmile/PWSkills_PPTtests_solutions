{
 "cells": [
  {
   "cell_type": "markdown",
   "id": "fe6750af-46c8-48ef-a965-100613e5b9d3",
   "metadata": {},
   "source": [
    "Q. Implement a decorator function called ‘timer’ that measures the execution time of a function. The ‘timer’ decorator should print the time taken by the decorated function to execute. Use the ‘time’ module in Python to calculate the execution time.\n",
    "\n",
    "Example:\n",
    "\n",
    "import time\n",
    "\n",
    "@timer\n",
    "def my_function():\n",
    "    # Function code goes here\n",
    "    time.sleep(2)\n",
    "\n",
    "my_function()\n",
    "\n",
    "Output:\n",
    "\"Execution time: 2.00123 seconds\""
   ]
  },
  {
   "cell_type": "code",
   "execution_count": 5,
   "id": "45a80796-63c1-48d6-9b50-a99a4e8e7c39",
   "metadata": {},
   "outputs": [
    {
     "name": "stdout",
     "output_type": "stream",
     "text": [
      "Hello, world!\n",
      "Execution Time: 2.00211 seconds.\n"
     ]
    }
   ],
   "source": [
    "import time \n",
    "\n",
    "def timer(func):\n",
    "    def timer_inner():\n",
    "        start = time.time()\n",
    "        func()\n",
    "        end = time.time()\n",
    "        execution_time = end - start\n",
    "        print(f'Execution Time: {execution_time:.5f} seconds.')\n",
    "    return timer_inner\n",
    "\n",
    "@timer\n",
    "def greet():\n",
    "    print(\"Hello, world!\")\n",
    "    time.sleep(2)\n",
    "\n",
    "greet()"
   ]
  },
  {
   "cell_type": "code",
   "execution_count": null,
   "id": "d93aa909-9c79-4e88-9d60-b2293079e1fc",
   "metadata": {},
   "outputs": [],
   "source": []
  }
 ],
 "metadata": {
  "kernelspec": {
   "display_name": "Python 3 (ipykernel)",
   "language": "python",
   "name": "python3"
  },
  "language_info": {
   "codemirror_mode": {
    "name": "ipython",
    "version": 3
   },
   "file_extension": ".py",
   "mimetype": "text/x-python",
   "name": "python",
   "nbconvert_exporter": "python",
   "pygments_lexer": "ipython3",
   "version": "3.10.8"
  }
 },
 "nbformat": 4,
 "nbformat_minor": 5
}
